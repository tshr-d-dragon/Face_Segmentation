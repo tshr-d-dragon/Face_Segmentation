{
 "cells": [
  {
   "cell_type": "code",
   "execution_count": 1,
   "id": "3d08782e",
   "metadata": {
    "execution": {
     "iopub.execute_input": "2022-05-24T05:38:09.704420Z",
     "iopub.status.busy": "2022-05-24T05:38:09.703803Z",
     "iopub.status.idle": "2022-05-24T05:38:10.407128Z",
     "shell.execute_reply": "2022-05-24T05:38:10.406314Z"
    },
    "id": "bXIVV3jOFJgK",
    "outputId": "e1a6bd1f-23d0-4dbb-d2a8-e9a650835316",
    "papermill": {
     "duration": 0.724757,
     "end_time": "2022-05-24T05:38:10.409397",
     "exception": false,
     "start_time": "2022-05-24T05:38:09.684640",
     "status": "completed"
    },
    "tags": []
   },
   "outputs": [
    {
     "name": "stdout",
     "output_type": "stream",
     "text": [
      "Tue May 24 05:38:10 2022       \r\n",
      "+-----------------------------------------------------------------------------+\r\n",
      "| NVIDIA-SMI 470.82.01    Driver Version: 470.82.01    CUDA Version: 11.4     |\r\n",
      "|-------------------------------+----------------------+----------------------+\r\n",
      "| GPU  Name        Persistence-M| Bus-Id        Disp.A | Volatile Uncorr. ECC |\r\n",
      "| Fan  Temp  Perf  Pwr:Usage/Cap|         Memory-Usage | GPU-Util  Compute M. |\r\n",
      "|                               |                      |               MIG M. |\r\n",
      "|===============================+======================+======================|\r\n",
      "|   0  Tesla P100-PCIE...  Off  | 00000000:00:04.0 Off |                    0 |\r\n",
      "| N/A   34C    P0    26W / 250W |      0MiB / 16280MiB |      0%      Default |\r\n",
      "|                               |                      |                  N/A |\r\n",
      "+-------------------------------+----------------------+----------------------+\r\n",
      "                                                                               \r\n",
      "+-----------------------------------------------------------------------------+\r\n",
      "| Processes:                                                                  |\r\n",
      "|  GPU   GI   CI        PID   Type   Process name                  GPU Memory |\r\n",
      "|        ID   ID                                                   Usage      |\r\n",
      "|=============================================================================|\r\n",
      "|  No running processes found                                                 |\r\n",
      "+-----------------------------------------------------------------------------+\r\n"
     ]
    }
   ],
   "source": [
    "!nvidia-smi"
   ]
  },
  {
   "cell_type": "code",
   "execution_count": 2,
   "id": "3520b042",
   "metadata": {
    "execution": {
     "iopub.execute_input": "2022-05-24T05:38:10.449742Z",
     "iopub.status.busy": "2022-05-24T05:38:10.447855Z",
     "iopub.status.idle": "2022-05-24T05:38:22.133922Z",
     "shell.execute_reply": "2022-05-24T05:38:22.133075Z"
    },
    "id": "qAswyr_eFJd0",
    "outputId": "3ff0b696-5069-41ee-ad7e-091a5c0c0d59",
    "papermill": {
     "duration": 11.70934,
     "end_time": "2022-05-24T05:38:22.136305",
     "exception": false,
     "start_time": "2022-05-24T05:38:10.426965",
     "status": "completed"
    },
    "tags": []
   },
   "outputs": [
    {
     "name": "stdout",
     "output_type": "stream",
     "text": [
      "Collecting segmentation_models\r\n",
      "  Downloading segmentation_models-1.0.1-py3-none-any.whl (33 kB)\r\n",
      "Collecting efficientnet==1.0.0\r\n",
      "  Downloading efficientnet-1.0.0-py3-none-any.whl (17 kB)\r\n",
      "Collecting image-classifiers==1.0.0\r\n",
      "  Downloading image_classifiers-1.0.0-py3-none-any.whl (19 kB)\r\n",
      "Collecting keras-applications<=1.0.8,>=1.0.7\r\n",
      "  Downloading Keras_Applications-1.0.8-py3-none-any.whl (50 kB)\r\n",
      "\u001b[2K     \u001b[90m━━━━━━━━━━━━━━━━━━━━━━━━━━━━━━━━━━━━━━━━\u001b[0m \u001b[32m50.7/50.7 KB\u001b[0m \u001b[31m1.2 MB/s\u001b[0m eta \u001b[36m0:00:00\u001b[0m\r\n",
      "\u001b[?25hRequirement already satisfied: scikit-image in /opt/conda/lib/python3.7/site-packages (from efficientnet==1.0.0->segmentation_models) (0.19.2)\r\n",
      "Requirement already satisfied: numpy>=1.9.1 in /opt/conda/lib/python3.7/site-packages (from keras-applications<=1.0.8,>=1.0.7->segmentation_models) (1.21.6)\r\n",
      "Requirement already satisfied: h5py in /opt/conda/lib/python3.7/site-packages (from keras-applications<=1.0.8,>=1.0.7->segmentation_models) (3.1.0)\r\n",
      "Requirement already satisfied: cached-property in /opt/conda/lib/python3.7/site-packages (from h5py->keras-applications<=1.0.8,>=1.0.7->segmentation_models) (1.5.2)\r\n",
      "Requirement already satisfied: pillow!=7.1.0,!=7.1.1,!=8.3.0,>=6.1.0 in /opt/conda/lib/python3.7/site-packages (from scikit-image->efficientnet==1.0.0->segmentation_models) (9.0.1)\r\n",
      "Requirement already satisfied: packaging>=20.0 in /opt/conda/lib/python3.7/site-packages (from scikit-image->efficientnet==1.0.0->segmentation_models) (21.3)\r\n",
      "Requirement already satisfied: PyWavelets>=1.1.1 in /opt/conda/lib/python3.7/site-packages (from scikit-image->efficientnet==1.0.0->segmentation_models) (1.3.0)\r\n",
      "Requirement already satisfied: imageio>=2.4.1 in /opt/conda/lib/python3.7/site-packages (from scikit-image->efficientnet==1.0.0->segmentation_models) (2.16.1)\r\n",
      "Requirement already satisfied: scipy>=1.4.1 in /opt/conda/lib/python3.7/site-packages (from scikit-image->efficientnet==1.0.0->segmentation_models) (1.7.3)\r\n",
      "Requirement already satisfied: tifffile>=2019.7.26 in /opt/conda/lib/python3.7/site-packages (from scikit-image->efficientnet==1.0.0->segmentation_models) (2021.11.2)\r\n",
      "Requirement already satisfied: networkx>=2.2 in /opt/conda/lib/python3.7/site-packages (from scikit-image->efficientnet==1.0.0->segmentation_models) (2.5)\r\n",
      "Requirement already satisfied: decorator>=4.3.0 in /opt/conda/lib/python3.7/site-packages (from networkx>=2.2->scikit-image->efficientnet==1.0.0->segmentation_models) (5.1.1)\r\n",
      "Requirement already satisfied: pyparsing!=3.0.5,>=2.0.2 in /opt/conda/lib/python3.7/site-packages (from packaging>=20.0->scikit-image->efficientnet==1.0.0->segmentation_models) (3.0.7)\r\n",
      "Installing collected packages: keras-applications, image-classifiers, efficientnet, segmentation_models\r\n",
      "Successfully installed efficientnet-1.0.0 image-classifiers-1.0.0 keras-applications-1.0.8 segmentation_models-1.0.1\r\n",
      "\u001b[33mWARNING: Running pip as the 'root' user can result in broken permissions and conflicting behaviour with the system package manager. It is recommended to use a virtual environment instead: https://pip.pypa.io/warnings/venv\u001b[0m\u001b[33m\r\n",
      "\u001b[0m"
     ]
    }
   ],
   "source": [
    "!pip install segmentation_models\n",
    "# for str decode error ... run it and restart runtime\n",
    "# !pip uninstall h5py\n",
    "# !pip install h5py==2.10.0"
   ]
  },
  {
   "cell_type": "code",
   "execution_count": 3,
   "id": "ba6bf0c7",
   "metadata": {
    "execution": {
     "iopub.execute_input": "2022-05-24T05:38:22.180602Z",
     "iopub.status.busy": "2022-05-24T05:38:22.179833Z",
     "iopub.status.idle": "2022-05-24T05:38:22.378030Z",
     "shell.execute_reply": "2022-05-24T05:38:22.377307Z"
    },
    "id": "N2dBmSv2heCL",
    "papermill": {
     "duration": 0.222732,
     "end_time": "2022-05-24T05:38:22.380147",
     "exception": false,
     "start_time": "2022-05-24T05:38:22.157415",
     "status": "completed"
    },
    "tags": []
   },
   "outputs": [],
   "source": [
    "from glob import glob\n",
    "import matplotlib.pyplot as plt\n",
    "import cv2 \n",
    "import numpy as np\n",
    "from tqdm import tqdm"
   ]
  },
  {
   "cell_type": "code",
   "execution_count": 4,
   "id": "ec6ffed8",
   "metadata": {
    "execution": {
     "iopub.execute_input": "2022-05-24T05:38:22.423679Z",
     "iopub.status.busy": "2022-05-24T05:38:22.423051Z",
     "iopub.status.idle": "2022-05-24T05:38:22.972729Z",
     "shell.execute_reply": "2022-05-24T05:38:22.972030Z"
    },
    "papermill": {
     "duration": 0.573735,
     "end_time": "2022-05-24T05:38:22.974693",
     "exception": false,
     "start_time": "2022-05-24T05:38:22.400958",
     "status": "completed"
    },
    "tags": []
   },
   "outputs": [
    {
     "data": {
      "text/plain": [
       "(19535, 2653, 22188)"
      ]
     },
     "execution_count": 4,
     "metadata": {},
     "output_type": "execute_result"
    }
   ],
   "source": [
    "train_masks = sorted(glob('../input/multiclass-face-segmentation/content/All_data/train/seg/*'))\n",
    "val_masks = sorted(glob('../input/multiclass-face-segmentation/content/All_data/val/seg/*'))\n",
    "total = train_masks + val_masks\n",
    "len(train_masks), len(val_masks), len(total)"
   ]
  },
  {
   "cell_type": "code",
   "execution_count": 5,
   "id": "a39f52eb",
   "metadata": {
    "execution": {
     "iopub.execute_input": "2022-05-24T05:38:23.017761Z",
     "iopub.status.busy": "2022-05-24T05:38:23.017179Z",
     "iopub.status.idle": "2022-05-24T05:38:23.022342Z",
     "shell.execute_reply": "2022-05-24T05:38:23.021721Z"
    },
    "papermill": {
     "duration": 0.028598,
     "end_time": "2022-05-24T05:38:23.024103",
     "exception": false,
     "start_time": "2022-05-24T05:38:22.995505",
     "status": "completed"
    },
    "tags": []
   },
   "outputs": [
    {
     "data": {
      "text/plain": [
       "['../input/multiclass-face-segmentation/content/All_data/train/seg/2090_0006.png',\n",
       " '../input/multiclass-face-segmentation/content/All_data/train/seg/2090_0007.png',\n",
       " '../input/multiclass-face-segmentation/content/All_data/train/seg/2090_0008.png',\n",
       " '../input/multiclass-face-segmentation/content/All_data/train/seg/2090_0009.png',\n",
       " '../input/multiclass-face-segmentation/content/All_data/train/seg/2090_0010.png',\n",
       " '../input/multiclass-face-segmentation/content/All_data/val/seg/0015_0001.png',\n",
       " '../input/multiclass-face-segmentation/content/All_data/val/seg/0015_0002.png',\n",
       " '../input/multiclass-face-segmentation/content/All_data/val/seg/0015_0003.png',\n",
       " '../input/multiclass-face-segmentation/content/All_data/val/seg/0015_0004.png',\n",
       " '../input/multiclass-face-segmentation/content/All_data/val/seg/0015_0005.png']"
      ]
     },
     "execution_count": 5,
     "metadata": {},
     "output_type": "execute_result"
    }
   ],
   "source": [
    "total[19530:19540]"
   ]
  },
  {
   "cell_type": "code",
   "execution_count": 6,
   "id": "13f93518",
   "metadata": {
    "execution": {
     "iopub.execute_input": "2022-05-24T05:38:23.068053Z",
     "iopub.status.busy": "2022-05-24T05:38:23.067522Z",
     "iopub.status.idle": "2022-05-24T05:38:23.070893Z",
     "shell.execute_reply": "2022-05-24T05:38:23.070141Z"
    },
    "id": "Aa4bb8KPIXVI",
    "outputId": "10b0fbc0-845f-4d0e-a2a4-c926292dc2f3",
    "papermill": {
     "duration": 0.026756,
     "end_time": "2022-05-24T05:38:23.072568",
     "exception": false,
     "start_time": "2022-05-24T05:38:23.045812",
     "status": "completed"
    },
    "tags": []
   },
   "outputs": [],
   "source": [
    "# for i in tqdm(total):\n",
    "#   # print(i)\n",
    "#   img = cv2.imread(i,0)\n",
    "\n",
    "#   for j in [11, 12]:\n",
    "#     img = np.where(img== j, 1, img)\n",
    "\n",
    "#   for j in [10, 15, 17]:\n",
    "#     img = np.where(img== j, 0, img)\n",
    "\n",
    "#   # print(np.unique(img))\n",
    "#   # plt.imshow(img, cmap = 'gray')\n",
    "#   # plt.show()\n",
    "#   # break\n",
    "#   img = cv2.resize(img, (256, 256), fx=0, fy=0, interpolation=cv2.INTER_NEAREST)\n",
    "\n",
    "#   cv2.imwrite(i, img)"
   ]
  },
  {
   "cell_type": "code",
   "execution_count": 7,
   "id": "7b5d7b87",
   "metadata": {
    "cellView": "form",
    "execution": {
     "iopub.execute_input": "2022-05-24T05:38:23.117755Z",
     "iopub.status.busy": "2022-05-24T05:38:23.117537Z",
     "iopub.status.idle": "2022-05-24T05:38:28.184026Z",
     "shell.execute_reply": "2022-05-24T05:38:28.183301Z"
    },
    "id": "lCObxrisz4nl",
    "papermill": {
     "duration": 5.090897,
     "end_time": "2022-05-24T05:38:28.186108",
     "exception": false,
     "start_time": "2022-05-24T05:38:23.095211",
     "status": "completed"
    },
    "tags": []
   },
   "outputs": [],
   "source": [
    "import os\n",
    "os.environ[\"TF_CPP_MIN_LOG_LEVEL\"] = \"3\"\n",
    "\n",
    "from keras.layers import Conv2D, BatchNormalization, Activation, UpSampling2D, MaxPooling2D\n",
    "from keras.layers import AveragePooling2D, Concatenate, Input, GlobalAveragePooling2D\n",
    "from keras.models import Model\n",
    "\n",
    "\n",
    "def SqueezeNet(input_shape):\n",
    "\n",
    "    def Fire(inputs, fs, fe):\n",
    "\n",
    "      s1 = Conv2D(filters=fs, kernel_size=1, padding='same', use_bias=False, activation='relu')(inputs)\n",
    "      s1 = BatchNormalization()(s1)\n",
    "      e1 = Conv2D(filters=fe, kernel_size=1, padding='same', use_bias=False, activation='relu')(s1)\n",
    "      e1 = BatchNormalization()(e1)\n",
    "      e3 = Conv2D(filters=fe, kernel_size=3, padding='same', use_bias=False, activation='relu')(s1)\n",
    "      e3 = BatchNormalization()(e3)\n",
    "\n",
    "      output = Concatenate()([e1, e3])\n",
    "\n",
    "      return output\n",
    "\n",
    "\n",
    "    x1 = Conv2D(filters=96, kernel_size=7, strides=2, padding='same', use_bias=False, activation='relu')(input_shape)\n",
    "    x1= s1 = BatchNormalization()(x1)\n",
    "    x1 = MaxPooling2D(pool_size=3, strides=2, padding='same')(x1)\n",
    "\n",
    "    f2 = Fire(x1, 16, 64)\n",
    "    f3 = Fire(f2, 16, 64)\n",
    "    f4 = Fire(f3, 32, 128)\n",
    "    x1 = MaxPooling2D(pool_size=3, strides=2, padding='same')(f4)\n",
    "\n",
    "    f5 = Fire(x1, 32, 128)\n",
    "    f6 = Fire(f5, 48, 192)\n",
    "    f7 = Fire(f6, 48, 192)\n",
    "    f8 = Fire(f7, 64, 256)\n",
    "    x1 = MaxPooling2D(pool_size=3, strides=2, padding='same')(f8)\n",
    "\n",
    "    f8 = Fire(x1, 64, 256)\n",
    "\n",
    "    return f4, f8\n",
    "\n",
    "\n",
    "def DeepLabV3Plus(inputs, classes=1):\n",
    "\n",
    "    inputs = Input(inputs)\n",
    "\n",
    "    low_level_image_features, high_level_image_features = SqueezeNet(input_shape = inputs)\n",
    "\n",
    "    x_a = Conv2D(filters=128, kernel_size=1, padding='same', use_bias=False)(high_level_image_features)\n",
    "    x_a = BatchNormalization(name=f'bn_6')(x_a)\n",
    "    x_a = Activation('relu', name=f'relu_6')(x_a)\n",
    "    x_a = UpSampling2D(size=4, interpolation='bilinear')(x_a)\n",
    "\n",
    "    x_b = Conv2D(filters=128, kernel_size=1, padding='same', use_bias=False)(low_level_image_features)\n",
    "    x_b = BatchNormalization(name=f'bn_7')(x_b)\n",
    "    x_b = Activation('relu', name=f'relu_7')(x_b)\n",
    "\n",
    "    x = Concatenate()([x_a, x_b])\n",
    "\n",
    "    x = Conv2D(filters=128, kernel_size=3, padding='same', use_bias=False)(x)\n",
    "    x = BatchNormalization(name=f'bn_8')(x)\n",
    "    x = Activation('relu', name=f'relu_8')(x)\n",
    "\n",
    "    x = Conv2D(filters=128, kernel_size=3, padding='same', use_bias=False)(x)\n",
    "    x = BatchNormalization(name=f'bn_9')(x)\n",
    "    x = Activation('relu', name=f'relu_9')(x)\n",
    "\n",
    "    x = UpSampling2D(size=4, interpolation='bilinear')(x)\n",
    "\n",
    "    x = Conv2D(classes, (1, 1), name='output_layer')(x)\n",
    "    \n",
    "    if classes == 1:\n",
    "      x = Activation('sigmoid')(x)\n",
    "    else:\n",
    "      x = Activation('softmax')(x)\n",
    "\n",
    "    model = Model(inputs=inputs, outputs=x)\n",
    "    \n",
    "    return model\n",
    "\n",
    "# model = DeepLabV3Plus(inputs=(512,512,3), classes=1)\n",
    "# model.summary()\n"
   ]
  },
  {
   "cell_type": "code",
   "execution_count": 8,
   "id": "46b40482",
   "metadata": {
    "execution": {
     "iopub.execute_input": "2022-05-24T05:38:28.230564Z",
     "iopub.status.busy": "2022-05-24T05:38:28.229949Z",
     "iopub.status.idle": "2022-05-24T05:38:28.723825Z",
     "shell.execute_reply": "2022-05-24T05:38:28.723115Z"
    },
    "papermill": {
     "duration": 0.517647,
     "end_time": "2022-05-24T05:38:28.725587",
     "exception": false,
     "start_time": "2022-05-24T05:38:28.207940",
     "status": "completed"
    },
    "tags": []
   },
   "outputs": [
    {
     "data": {
      "text/plain": [
       "(19535, 2653, 22188)"
      ]
     },
     "execution_count": 8,
     "metadata": {},
     "output_type": "execute_result"
    }
   ],
   "source": [
    "train_imgs = sorted(glob('../input/multiclass-face-segmentation/content/All_data/train/image/*'))\n",
    "val_imgs = sorted(glob('../input/multiclass-face-segmentation/content/All_data/val/image/*'))\n",
    "total_imgs = train_imgs + val_imgs\n",
    "len(train_imgs), len(val_imgs), len(total_imgs)"
   ]
  },
  {
   "cell_type": "code",
   "execution_count": 9,
   "id": "c563ce9e",
   "metadata": {
    "execution": {
     "iopub.execute_input": "2022-05-24T05:38:28.771148Z",
     "iopub.status.busy": "2022-05-24T05:38:28.770356Z",
     "iopub.status.idle": "2022-05-24T05:38:28.875471Z",
     "shell.execute_reply": "2022-05-24T05:38:28.874640Z"
    },
    "papermill": {
     "duration": 0.130915,
     "end_time": "2022-05-24T05:38:28.878137",
     "exception": false,
     "start_time": "2022-05-24T05:38:28.747222",
     "status": "completed"
    },
    "tags": []
   },
   "outputs": [
    {
     "data": {
      "text/plain": [
       "(19535, 2653, 22188)"
      ]
     },
     "execution_count": 9,
     "metadata": {},
     "output_type": "execute_result"
    }
   ],
   "source": [
    "train_masks = sorted(glob('../input/multiclass-face-segmentation/content/All_data/train/seg/*'))\n",
    "val_masks = sorted(glob('../input/multiclass-face-segmentation/content/All_data/val/seg/*'))\n",
    "total_masks = train_masks + val_masks\n",
    "len(train_masks), len(val_masks), len(total_masks)"
   ]
  },
  {
   "cell_type": "code",
   "execution_count": 10,
   "id": "9b88ceb8",
   "metadata": {
    "execution": {
     "iopub.execute_input": "2022-05-24T05:38:28.928098Z",
     "iopub.status.busy": "2022-05-24T05:38:28.927837Z",
     "iopub.status.idle": "2022-05-24T05:38:48.147644Z",
     "shell.execute_reply": "2022-05-24T05:38:48.146881Z"
    },
    "id": "xj4jbg5LFJaz",
    "outputId": "f47ecf9b-6e9d-4b6a-c29a-c61158d886b2",
    "papermill": {
     "duration": 19.246005,
     "end_time": "2022-05-24T05:38:48.150126",
     "exception": false,
     "start_time": "2022-05-24T05:38:28.904121",
     "status": "completed"
    },
    "tags": []
   },
   "outputs": [
    {
     "name": "stdout",
     "output_type": "stream",
     "text": [
      "3000 500 3000 500 7766 7766\n",
      "(64, 256, 256, 3) (64, 256, 256, 8)\n",
      "(64, 256, 256, 3) (64, 256, 256, 8)\n",
      "(64, 256, 256, 3) (64, 256, 256, 8)\n"
     ]
    }
   ],
   "source": [
    "import os\n",
    "import numpy as np\n",
    "import cv2\n",
    "from glob import glob\n",
    "from sklearn.model_selection import train_test_split\n",
    "import tensorflow as tf\n",
    "\n",
    "def load_dataset(images, masks):\n",
    "    \n",
    "    train_x, test_x, train_y, test_y = train_test_split(images, masks, test_size=0.35, random_state=1996, shuffle=True)\n",
    "    train_x, val_x, train_y, val_y = train_test_split(train_x, train_y, test_size=0.2, random_state=1996, shuffle=True)\n",
    "    \n",
    "    return train_x, val_x, train_y, val_y, test_x, test_y\n",
    "\n",
    "train_x, val_x, train_y, val_y, test_x, test_y = load_dataset(sorted(total_imgs), sorted(total_masks))\n",
    "train_x, val_x, train_y, val_y = train_x[:3000], val_x[:500], train_y[:3000], val_y[:500]\n",
    "print(len(train_x), len(val_x), len(train_y), len(val_y), len(test_x), len(test_y))\n",
    "\n",
    "train_X_y_paths = list(zip(train_x, train_y))\n",
    "val_X_y_paths = list(zip(test_x, test_y))\n",
    "test_X_y_paths = list(zip(val_x, val_y))\n",
    "\n",
    "def shuffle(samples):\n",
    "  index = np.random.permutation(len(samples))\n",
    "  return np.array(samples)[index]\n",
    "\n",
    "def get_data_generator(samples,batch_size):\n",
    "\n",
    "  while True:\n",
    "    for offset in range(0, len(samples), batch_size): \n",
    "      samples = shuffle(samples)           \n",
    "      batch_samples = samples[offset:offset+batch_size]\n",
    "      X_train = []\n",
    "      Y_train = []        \n",
    " \n",
    "      for batch_sample in batch_samples:\n",
    "          \n",
    "#         print(batch_sample)\n",
    "\n",
    "        X_image = cv2.imread(batch_sample[0])[:,:,::-1]# convert bgr to rgb\n",
    "        X_image = cv2.resize(X_image, (256, 256))\n",
    "        # X_image = np.dstack((X_image, X_image, X_image))\n",
    "        X_image = X_image / 255.0\n",
    "        X_image = X_image.astype(np.float32)\n",
    "        # X_image = np.expand_dims(X_image, axis=-1)\n",
    "        \n",
    "        Y_image = cv2.imread(batch_sample[1], 0)\n",
    "        \n",
    "        Y_image = np.where(Y_image== 3, 2, Y_image)\n",
    "        Y_image = np.where(Y_image== 14, 13, Y_image)\n",
    "        for j in [9, 8]:\n",
    "            Y_image = np.where(Y_image== j, 7, Y_image)\n",
    "        for j in [4, 5]:\n",
    "            Y_image = np.where(Y_image== j, 3, Y_image)\n",
    "        for j in [11, 12]:\n",
    "            Y_image = np.where(Y_image== j, 1, Y_image)\n",
    "        for j in [10, 15, 17]:\n",
    "            Y_image = np.where(Y_image== j, 0, Y_image)\n",
    "#         print(np.unique(Y_image))\n",
    "        \n",
    "        Y_image = cv2.resize(Y_image, (256, 256), fx=0, fy=0, interpolation=cv2.INTER_NEAREST)\n",
    "        Y_image = tf.one_hot(Y_image, 8, dtype = np.float32)\n",
    "        Y_image = np.array(Y_image)\n",
    "#         Y_image = Y_image.astype(np.float32)\n",
    "        # Y_image = np.expand_dims(Y_image, axis=-1)\n",
    "\n",
    "        X_train.append(X_image)\n",
    "        Y_train.append(Y_image)\n",
    " \n",
    "      yield np.array(X_train), np.array(Y_train)\n",
    "\n",
    "\n",
    "BATCH_SIZE = 64\n",
    "train_generator = get_data_generator(train_X_y_paths,batch_size=BATCH_SIZE)\n",
    "val_generator = get_data_generator(val_X_y_paths,batch_size=BATCH_SIZE)\n",
    "test_generator = get_data_generator(test_X_y_paths,batch_size=BATCH_SIZE)\n",
    "\n",
    "x_train, y_train = next(train_generator)\n",
    "x_val, y_val  = next(val_generator)\n",
    "x_test, y_test  = next(test_generator)\n",
    "\n",
    "print(x_train.shape,y_train.shape)\n",
    "print(x_val.shape, y_val.shape)\n",
    "print(x_test.shape, y_test.shape)"
   ]
  },
  {
   "cell_type": "code",
   "execution_count": 11,
   "id": "bfac8b56",
   "metadata": {
    "execution": {
     "iopub.execute_input": "2022-05-24T05:38:48.197109Z",
     "iopub.status.busy": "2022-05-24T05:38:48.196658Z",
     "iopub.status.idle": "2022-05-24T05:38:53.729140Z",
     "shell.execute_reply": "2022-05-24T05:38:53.728408Z"
    },
    "id": "_q7LXA4KOFIB",
    "outputId": "af250620-a183-44dd-fcfd-4220d3a802ee",
    "papermill": {
     "duration": 5.558074,
     "end_time": "2022-05-24T05:38:53.731036",
     "exception": false,
     "start_time": "2022-05-24T05:38:48.172962",
     "status": "completed"
    },
    "tags": []
   },
   "outputs": [
    {
     "data": {
      "text/plain": [
       "array([0., 1.], dtype=float32)"
      ]
     },
     "execution_count": 11,
     "metadata": {},
     "output_type": "execute_result"
    }
   ],
   "source": [
    "np.unique(next(train_generator)[1])"
   ]
  },
  {
   "cell_type": "code",
   "execution_count": 12,
   "id": "ccb66e5d",
   "metadata": {
    "execution": {
     "iopub.execute_input": "2022-05-24T05:38:53.779433Z",
     "iopub.status.busy": "2022-05-24T05:38:53.779204Z",
     "iopub.status.idle": "2022-05-24T09:45:29.777371Z",
     "shell.execute_reply": "2022-05-24T09:45:29.776520Z"
    },
    "id": "BD0OK0F6FJYQ",
    "outputId": "33285146-bd02-4d90-fa9c-40b4ceec8bc0",
    "papermill": {
     "duration": 14796.869638,
     "end_time": "2022-05-24T09:45:30.624557",
     "exception": false,
     "start_time": "2022-05-24T05:38:53.754919",
     "status": "completed"
    },
    "tags": []
   },
   "outputs": [
    {
     "name": "stdout",
     "output_type": "stream",
     "text": [
      "env: SM_FRAMEWORK=tf.keras\n",
      "Segmentation Models: using `tf.keras` framework.\n",
      "train_steps:  47 \n",
      "val_steps:  8\n",
      "Epoch 1/1000\n",
      "47/47 [==============================] - 303s 6s/step - loss: 1.7484 - precision: 0.1831 - recall: 0.4364 - f1-score: 0.1782 - iou_score: 0.1420 - val_loss: 3.6634 - val_precision: 0.2861 - val_recall: 0.3755 - val_f1-score: 0.1621 - val_iou_score: 0.1610\n",
      "\n",
      "Epoch 00001: val_iou_score improved from -inf to 0.16103, saving model to ./Deeplabv3p_SQNet_Face_Seg_001.h5\n",
      "Epoch 2/1000\n",
      "47/47 [==============================] - 290s 6s/step - loss: 1.5960 - precision: 0.2621 - recall: 0.5131 - f1-score: 0.2568 - iou_score: 0.1954 - val_loss: 3.2061 - val_precision: 0.1266 - val_recall: 0.4111 - val_f1-score: 0.0634 - val_iou_score: 0.0410\n",
      "\n",
      "Epoch 00002: val_iou_score did not improve from 0.16103\n",
      "Epoch 3/1000\n",
      "47/47 [==============================] - 283s 6s/step - loss: 1.4672 - precision: 0.3420 - recall: 0.5825 - f1-score: 0.3311 - iou_score: 0.2466 - val_loss: 3.1540 - val_precision: 0.1272 - val_recall: 0.4015 - val_f1-score: 0.0514 - val_iou_score: 0.0311\n",
      "\n",
      "Epoch 00003: val_iou_score did not improve from 0.16103\n",
      "Epoch 4/1000\n",
      "47/47 [==============================] - 276s 6s/step - loss: 1.3778 - precision: 0.3962 - recall: 0.6290 - f1-score: 0.3809 - iou_score: 0.2839 - val_loss: 3.6396 - val_precision: 0.1308 - val_recall: 0.4264 - val_f1-score: 0.0269 - val_iou_score: 0.0140\n",
      "\n",
      "Epoch 00004: val_iou_score did not improve from 0.16103\n",
      "Epoch 5/1000\n",
      "47/47 [==============================] - 280s 6s/step - loss: 1.2808 - precision: 0.4537 - recall: 0.6737 - f1-score: 0.4314 - iou_score: 0.3265 - val_loss: 2.0713 - val_precision: 0.2155 - val_recall: 0.6322 - val_f1-score: 0.2130 - val_iou_score: 0.1370\n",
      "\n",
      "Epoch 00005: val_iou_score did not improve from 0.16103\n",
      "Epoch 6/1000\n",
      "47/47 [==============================] - 272s 6s/step - loss: 1.1844 - precision: 0.5001 - recall: 0.7162 - f1-score: 0.4789 - iou_score: 0.3709 - val_loss: 2.0666 - val_precision: 0.2371 - val_recall: 0.5719 - val_f1-score: 0.2236 - val_iou_score: 0.1480\n",
      "\n",
      "Epoch 00006: val_iou_score did not improve from 0.16103\n",
      "Epoch 7/1000\n",
      "47/47 [==============================] - 275s 6s/step - loss: 1.1325 - precision: 0.5251 - recall: 0.7406 - f1-score: 0.5034 - iou_score: 0.3957 - val_loss: 2.8220 - val_precision: 0.1755 - val_recall: 0.5020 - val_f1-score: 0.1231 - val_iou_score: 0.0704\n",
      "\n",
      "Epoch 00007: val_iou_score did not improve from 0.16103\n",
      "Epoch 8/1000\n",
      "47/47 [==============================] - 287s 6s/step - loss: 1.0851 - precision: 0.5450 - recall: 0.7637 - f1-score: 0.5256 - iou_score: 0.4192 - val_loss: 2.1049 - val_precision: 0.2222 - val_recall: 0.5192 - val_f1-score: 0.1823 - val_iou_score: 0.1220\n",
      "\n",
      "Epoch 00008: val_iou_score did not improve from 0.16103\n",
      "Epoch 9/1000\n",
      "47/47 [==============================] - 284s 6s/step - loss: 1.0620 - precision: 0.5604 - recall: 0.7689 - f1-score: 0.5359 - iou_score: 0.4306 - val_loss: 2.0789 - val_precision: 0.2553 - val_recall: 0.6078 - val_f1-score: 0.2362 - val_iou_score: 0.1500\n",
      "\n",
      "Epoch 00009: val_iou_score did not improve from 0.16103\n",
      "Epoch 10/1000\n",
      "47/47 [==============================] - 281s 6s/step - loss: 1.0090 - precision: 0.5791 - recall: 0.7951 - f1-score: 0.5592 - iou_score: 0.4578 - val_loss: 1.4120 - val_precision: 0.4149 - val_recall: 0.7181 - val_f1-score: 0.4130 - val_iou_score: 0.2996\n",
      "\n",
      "Epoch 00010: val_iou_score improved from 0.16103 to 0.29956, saving model to ./Deeplabv3p_SQNet_Face_Seg_0010.h5\n",
      "Epoch 11/1000\n",
      "47/47 [==============================] - 282s 6s/step - loss: 0.9704 - precision: 0.5936 - recall: 0.8117 - f1-score: 0.5754 - iou_score: 0.4776 - val_loss: 1.2496 - val_precision: 0.4877 - val_recall: 0.7299 - val_f1-score: 0.4657 - val_iou_score: 0.3539\n",
      "\n",
      "Epoch 00011: val_iou_score improved from 0.29956 to 0.35387, saving model to ./Deeplabv3p_SQNet_Face_Seg_0011.h5\n",
      "Epoch 12/1000\n",
      "47/47 [==============================] - 283s 6s/step - loss: 0.9543 - precision: 0.5989 - recall: 0.8200 - f1-score: 0.5823 - iou_score: 0.4863 - val_loss: 1.0982 - val_precision: 0.6015 - val_recall: 0.7286 - val_f1-score: 0.5264 - val_iou_score: 0.4192\n",
      "\n",
      "Epoch 00012: val_iou_score improved from 0.35387 to 0.41918, saving model to ./Deeplabv3p_SQNet_Face_Seg_0012.h5\n",
      "Epoch 13/1000\n",
      "47/47 [==============================] - 278s 6s/step - loss: 0.8895 - precision: 0.6337 - recall: 0.8204 - f1-score: 0.6146 - iou_score: 0.5195 - val_loss: 1.1608 - val_precision: 0.5879 - val_recall: 0.6849 - val_f1-score: 0.5285 - val_iou_score: 0.4186\n",
      "\n",
      "Epoch 00013: val_iou_score did not improve from 0.41918\n",
      "Epoch 14/1000\n",
      "47/47 [==============================] - 284s 6s/step - loss: 0.5007 - precision: 0.8270 - recall: 0.8248 - f1-score: 0.8098 - iou_score: 0.7158 - val_loss: 0.7575 - val_precision: 0.7562 - val_recall: 0.7317 - val_f1-score: 0.7238 - val_iou_score: 0.6087\n",
      "\n",
      "Epoch 00014: val_iou_score improved from 0.41918 to 0.60868, saving model to ./Deeplabv3p_SQNet_Face_Seg_0014.h5\n",
      "Epoch 15/1000\n",
      "47/47 [==============================] - 280s 6s/step - loss: 0.4177 - precision: 0.8616 - recall: 0.8373 - f1-score: 0.8476 - iou_score: 0.7564 - val_loss: 0.5829 - val_precision: 0.8285 - val_recall: 0.7595 - val_f1-score: 0.7827 - val_iou_score: 0.6756\n",
      "\n",
      "Epoch 00015: val_iou_score improved from 0.60868 to 0.67565, saving model to ./Deeplabv3p_SQNet_Face_Seg_0015.h5\n",
      "Epoch 16/1000\n",
      "47/47 [==============================] - 279s 6s/step - loss: 0.3998 - precision: 0.8689 - recall: 0.8443 - f1-score: 0.8549 - iou_score: 0.7660 - val_loss: 0.5400 - val_precision: 0.8513 - val_recall: 0.7653 - val_f1-score: 0.7951 - val_iou_score: 0.6905\n",
      "\n",
      "Epoch 00016: val_iou_score improved from 0.67565 to 0.69048, saving model to ./Deeplabv3p_SQNet_Face_Seg_0016.h5\n",
      "Epoch 17/1000\n",
      "47/47 [==============================] - 280s 6s/step - loss: 0.3725 - precision: 0.8778 - recall: 0.8563 - f1-score: 0.8657 - iou_score: 0.7804 - val_loss: 0.5127 - val_precision: 0.8915 - val_recall: 0.7527 - val_f1-score: 0.8090 - val_iou_score: 0.7088\n",
      "\n",
      "Epoch 00017: val_iou_score improved from 0.69048 to 0.70876, saving model to ./Deeplabv3p_SQNet_Face_Seg_0017.h5\n",
      "Epoch 18/1000\n",
      "47/47 [==============================] - 280s 6s/step - loss: 0.3632 - precision: 0.8820 - recall: 0.8594 - f1-score: 0.8694 - iou_score: 0.7856 - val_loss: 0.4468 - val_precision: 0.8669 - val_recall: 0.8136 - val_f1-score: 0.8363 - val_iou_score: 0.7416\n",
      "\n",
      "Epoch 00018: val_iou_score improved from 0.70876 to 0.74164, saving model to ./Deeplabv3p_SQNet_Face_Seg_0018.h5\n",
      "Epoch 19/1000\n",
      "47/47 [==============================] - 275s 6s/step - loss: 0.3470 - precision: 0.8863 - recall: 0.8665 - f1-score: 0.8755 - iou_score: 0.7942 - val_loss: 0.4379 - val_precision: 0.8893 - val_recall: 0.8026 - val_f1-score: 0.8381 - val_iou_score: 0.7439\n",
      "\n",
      "Epoch 00019: val_iou_score improved from 0.74164 to 0.74388, saving model to ./Deeplabv3p_SQNet_Face_Seg_0019.h5\n",
      "Epoch 20/1000\n",
      "47/47 [==============================] - 290s 6s/step - loss: 0.3350 - precision: 0.8897 - recall: 0.8718 - f1-score: 0.8799 - iou_score: 0.8004 - val_loss: 0.3930 - val_precision: 0.8997 - val_recall: 0.8249 - val_f1-score: 0.8578 - val_iou_score: 0.7695\n",
      "\n",
      "Epoch 00020: val_iou_score improved from 0.74388 to 0.76954, saving model to ./Deeplabv3p_SQNet_Face_Seg_0020.h5\n",
      "Epoch 21/1000\n",
      "47/47 [==============================] - 286s 6s/step - loss: 0.3225 - precision: 0.8950 - recall: 0.8766 - f1-score: 0.8850 - iou_score: 0.8078 - val_loss: 0.3792 - val_precision: 0.8579 - val_recall: 0.8710 - val_f1-score: 0.8624 - val_iou_score: 0.7772\n",
      "\n",
      "Epoch 00021: val_iou_score improved from 0.76954 to 0.77718, saving model to ./Deeplabv3p_SQNet_Face_Seg_0021.h5\n",
      "Epoch 22/1000\n",
      "47/47 [==============================] - 276s 6s/step - loss: 0.3231 - precision: 0.8948 - recall: 0.8773 - f1-score: 0.8850 - iou_score: 0.8077 - val_loss: 0.4332 - val_precision: 0.8676 - val_recall: 0.8217 - val_f1-score: 0.8418 - val_iou_score: 0.7492\n",
      "\n",
      "Epoch 00022: val_iou_score did not improve from 0.77718\n",
      "Epoch 23/1000\n",
      "47/47 [==============================] - 277s 6s/step - loss: 0.3184 - precision: 0.8957 - recall: 0.8792 - f1-score: 0.8866 - iou_score: 0.8099 - val_loss: 0.4962 - val_precision: 0.8359 - val_recall: 0.8140 - val_f1-score: 0.8177 - val_iou_score: 0.7171\n",
      "\n",
      "Epoch 00023: val_iou_score did not improve from 0.77718\n",
      "Epoch 24/1000\n",
      "47/47 [==============================] - 280s 6s/step - loss: 0.3111 - precision: 0.8986 - recall: 0.8820 - f1-score: 0.8893 - iou_score: 0.8141 - val_loss: 0.4199 - val_precision: 0.8775 - val_recall: 0.8227 - val_f1-score: 0.8447 - val_iou_score: 0.7540\n",
      "\n",
      "Epoch 00024: val_iou_score did not improve from 0.77718\n",
      "Epoch 25/1000\n",
      "47/47 [==============================] - 276s 6s/step - loss: 0.2949 - precision: 0.9043 - recall: 0.8883 - f1-score: 0.8954 - iou_score: 0.8230 - val_loss: 0.3945 - val_precision: 0.8942 - val_recall: 0.8299 - val_f1-score: 0.8583 - val_iou_score: 0.7701\n",
      "\n",
      "Epoch 00025: val_iou_score did not improve from 0.77718\n",
      "Epoch 26/1000\n",
      "47/47 [==============================] - 290s 6s/step - loss: 0.2919 - precision: 0.9052 - recall: 0.8896 - f1-score: 0.8967 - iou_score: 0.8247 - val_loss: 0.3753 - val_precision: 0.8976 - val_recall: 0.8391 - val_f1-score: 0.8651 - val_iou_score: 0.7797\n",
      "\n",
      "Epoch 00026: val_iou_score improved from 0.77718 to 0.77974, saving model to ./Deeplabv3p_SQNet_Face_Seg_0026.h5\n",
      "Epoch 27/1000\n",
      "47/47 [==============================] - 283s 6s/step - loss: 0.2967 - precision: 0.9031 - recall: 0.8882 - f1-score: 0.8949 - iou_score: 0.8220 - val_loss: 0.3722 - val_precision: 0.8878 - val_recall: 0.8470 - val_f1-score: 0.8654 - val_iou_score: 0.7799\n",
      "\n",
      "Epoch 00027: val_iou_score improved from 0.77974 to 0.77986, saving model to ./Deeplabv3p_SQNet_Face_Seg_0027.h5\n",
      "Epoch 28/1000\n",
      "47/47 [==============================] - 276s 6s/step - loss: 0.2814 - precision: 0.9084 - recall: 0.8947 - f1-score: 0.9009 - iou_score: 0.8307 - val_loss: 0.4184 - val_precision: 0.8308 - val_recall: 0.8688 - val_f1-score: 0.8483 - val_iou_score: 0.7568\n",
      "\n",
      "Epoch 00028: val_iou_score did not improve from 0.77986\n",
      "Epoch 29/1000\n",
      "47/47 [==============================] - 294s 6s/step - loss: 0.2782 - precision: 0.9080 - recall: 0.8971 - f1-score: 0.9019 - iou_score: 0.8324 - val_loss: 0.4084 - val_precision: 0.8762 - val_recall: 0.8356 - val_f1-score: 0.8524 - val_iou_score: 0.7621\n",
      "\n",
      "Epoch 00029: val_iou_score did not improve from 0.77986\n",
      "Epoch 30/1000\n",
      "47/47 [==============================] - 286s 6s/step - loss: 0.2863 - precision: 0.9066 - recall: 0.8927 - f1-score: 0.8987 - iou_score: 0.8277 - val_loss: 0.4163 - val_precision: 0.8418 - val_recall: 0.8599 - val_f1-score: 0.8481 - val_iou_score: 0.7570\n",
      "\n",
      "Epoch 00030: val_iou_score did not improve from 0.77986\n",
      "Epoch 31/1000\n",
      "47/47 [==============================] - 287s 6s/step - loss: 0.2845 - precision: 0.9073 - recall: 0.8931 - f1-score: 0.8994 - iou_score: 0.8288 - val_loss: 0.3157 - val_precision: 0.9060 - val_recall: 0.8722 - val_f1-score: 0.8879 - val_iou_score: 0.8111\n",
      "\n",
      "Epoch 00031: val_iou_score improved from 0.77986 to 0.81109, saving model to ./Deeplabv3p_SQNet_Face_Seg_0031.h5\n",
      "Epoch 32/1000\n",
      "47/47 [==============================] - 288s 6s/step - loss: 0.2601 - precision: 0.9154 - recall: 0.9029 - f1-score: 0.9086 - iou_score: 0.8427 - val_loss: 0.3391 - val_precision: 0.8990 - val_recall: 0.8620 - val_f1-score: 0.8789 - val_iou_score: 0.7994\n",
      "\n",
      "Epoch 00032: val_iou_score did not improve from 0.81109\n",
      "Epoch 33/1000\n",
      "47/47 [==============================] - 279s 6s/step - loss: 0.2688 - precision: 0.9131 - recall: 0.8992 - f1-score: 0.9055 - iou_score: 0.8378 - val_loss: 0.4046 - val_precision: 0.8910 - val_recall: 0.8266 - val_f1-score: 0.8540 - val_iou_score: 0.7644\n",
      "\n",
      "Epoch 00033: val_iou_score did not improve from 0.81109\n",
      "Epoch 34/1000\n",
      "47/47 [==============================] - 286s 6s/step - loss: 0.2647 - precision: 0.9144 - recall: 0.9008 - f1-score: 0.9071 - iou_score: 0.8400 - val_loss: 0.3746 - val_precision: 0.9078 - val_recall: 0.8344 - val_f1-score: 0.8661 - val_iou_score: 0.7810\n",
      "\n",
      "Epoch 00034: val_iou_score did not improve from 0.81109\n",
      "Epoch 35/1000\n",
      "47/47 [==============================] - 321s 7s/step - loss: 0.2623 - precision: 0.9159 - recall: 0.9012 - f1-score: 0.9079 - iou_score: 0.8414 - val_loss: 0.3737 - val_precision: 0.8884 - val_recall: 0.8478 - val_f1-score: 0.8653 - val_iou_score: 0.7801\n",
      "\n",
      "Epoch 00035: val_iou_score did not improve from 0.81109\n",
      "Epoch 36/1000\n",
      "47/47 [==============================] - 284s 6s/step - loss: 0.2444 - precision: 0.9207 - recall: 0.9092 - f1-score: 0.9145 - iou_score: 0.8514 - val_loss: 0.3345 - val_precision: 0.8971 - val_recall: 0.8683 - val_f1-score: 0.8813 - val_iou_score: 0.8022\n",
      "\n",
      "Epoch 00036: val_iou_score did not improve from 0.81109\n",
      "\n",
      "Epoch 00036: ReduceLROnPlateau reducing learning rate to 0.004999999888241291.\n",
      "Epoch 37/1000\n",
      "47/47 [==============================] - 290s 6s/step - loss: 0.2259 - precision: 0.9264 - recall: 0.9167 - f1-score: 0.9212 - iou_score: 0.8620 - val_loss: 0.3069 - val_precision: 0.9091 - val_recall: 0.8755 - val_f1-score: 0.8913 - val_iou_score: 0.8166\n",
      "\n",
      "Epoch 00037: val_iou_score improved from 0.81109 to 0.81658, saving model to ./Deeplabv3p_SQNet_Face_Seg_0037.h5\n",
      "Epoch 38/1000\n",
      "47/47 [==============================] - 283s 6s/step - loss: 0.2206 - precision: 0.9292 - recall: 0.9182 - f1-score: 0.9233 - iou_score: 0.8652 - val_loss: 0.3171 - val_precision: 0.9184 - val_recall: 0.8611 - val_f1-score: 0.8869 - val_iou_score: 0.8118\n",
      "\n",
      "Epoch 00038: val_iou_score did not improve from 0.81658\n",
      "Epoch 39/1000\n",
      "47/47 [==============================] - 289s 6s/step - loss: 0.2162 - precision: 0.9314 - recall: 0.9193 - f1-score: 0.9250 - iou_score: 0.8678 - val_loss: 0.3210 - val_precision: 0.9135 - val_recall: 0.8630 - val_f1-score: 0.8858 - val_iou_score: 0.8092\n",
      "\n",
      "Epoch 00039: val_iou_score did not improve from 0.81658\n",
      "Epoch 40/1000\n",
      "47/47 [==============================] - 282s 6s/step - loss: 0.2144 - precision: 0.9313 - recall: 0.9203 - f1-score: 0.9254 - iou_score: 0.8685 - val_loss: 0.3370 - val_precision: 0.9080 - val_recall: 0.8580 - val_f1-score: 0.8803 - val_iou_score: 0.8020\n",
      "\n",
      "Epoch 00040: val_iou_score did not improve from 0.81658\n",
      "Epoch 41/1000\n",
      "47/47 [==============================] - 290s 6s/step - loss: 0.2049 - precision: 0.9337 - recall: 0.9248 - f1-score: 0.9289 - iou_score: 0.8741 - val_loss: 0.3087 - val_precision: 0.9128 - val_recall: 0.8714 - val_f1-score: 0.8904 - val_iou_score: 0.8157\n",
      "\n",
      "Epoch 00041: val_iou_score did not improve from 0.81658\n",
      "Epoch 42/1000\n",
      "47/47 [==============================] - 290s 6s/step - loss: 0.2044 - precision: 0.9351 - recall: 0.9239 - f1-score: 0.9292 - iou_score: 0.8743 - val_loss: 0.3126 - val_precision: 0.9114 - val_recall: 0.8703 - val_f1-score: 0.8893 - val_iou_score: 0.8138\n",
      "\n",
      "Epoch 00042: val_iou_score did not improve from 0.81658\n",
      "\n",
      "Epoch 00042: ReduceLROnPlateau reducing learning rate to 0.0024999999441206455.\n",
      "Epoch 43/1000\n",
      "47/47 [==============================] - 288s 6s/step - loss: 0.1918 - precision: 0.9379 - recall: 0.9303 - f1-score: 0.9339 - iou_score: 0.8818 - val_loss: 0.2970 - val_precision: 0.9248 - val_recall: 0.8702 - val_f1-score: 0.8953 - val_iou_score: 0.8224\n",
      "\n",
      "Epoch 00043: val_iou_score improved from 0.81658 to 0.82238, saving model to ./Deeplabv3p_SQNet_Face_Seg_0043.h5\n",
      "Epoch 44/1000\n",
      "47/47 [==============================] - 281s 6s/step - loss: 0.1905 - precision: 0.9400 - recall: 0.9291 - f1-score: 0.9343 - iou_score: 0.8826 - val_loss: 0.2797 - val_precision: 0.9157 - val_recall: 0.8893 - val_f1-score: 0.9019 - val_iou_score: 0.8323\n",
      "\n",
      "Epoch 00044: val_iou_score improved from 0.82238 to 0.83233, saving model to ./Deeplabv3p_SQNet_Face_Seg_0044.h5\n",
      "Epoch 45/1000\n",
      "47/47 [==============================] - 287s 6s/step - loss: 0.1835 - precision: 0.9415 - recall: 0.9325 - f1-score: 0.9368 - iou_score: 0.8866 - val_loss: 0.3091 - val_precision: 0.9187 - val_recall: 0.8669 - val_f1-score: 0.8901 - val_iou_score: 0.8159\n",
      "\n",
      "Epoch 00045: val_iou_score did not improve from 0.83233\n",
      "Epoch 46/1000\n",
      "47/47 [==============================] - 277s 6s/step - loss: 0.1803 - precision: 0.9427 - recall: 0.9339 - f1-score: 0.9381 - iou_score: 0.8886 - val_loss: 0.3090 - val_precision: 0.9144 - val_recall: 0.8737 - val_f1-score: 0.8925 - val_iou_score: 0.8188\n",
      "\n",
      "Epoch 00046: val_iou_score did not improve from 0.83233\n",
      "Epoch 47/1000\n",
      "47/47 [==============================] - 286s 6s/step - loss: 0.1809 - precision: 0.9426 - recall: 0.9333 - f1-score: 0.9377 - iou_score: 0.8881 - val_loss: 0.3243 - val_precision: 0.9016 - val_recall: 0.8698 - val_f1-score: 0.8848 - val_iou_score: 0.8078\n",
      "\n",
      "Epoch 00047: val_iou_score did not improve from 0.83233\n",
      "Epoch 48/1000\n",
      "47/47 [==============================] - 288s 6s/step - loss: 0.1757 - precision: 0.9443 - recall: 0.9357 - f1-score: 0.9398 - iou_score: 0.8915 - val_loss: 0.2817 - val_precision: 0.9070 - val_recall: 0.8959 - val_f1-score: 0.9008 - val_iou_score: 0.8310\n",
      "\n",
      "Epoch 00048: val_iou_score did not improve from 0.83233\n",
      "Epoch 49/1000\n",
      "47/47 [==============================] - 287s 6s/step - loss: 0.1819 - precision: 0.9419 - recall: 0.9333 - f1-score: 0.9374 - iou_score: 0.8875 - val_loss: 0.3006 - val_precision: 0.9217 - val_recall: 0.8708 - val_f1-score: 0.8941 - val_iou_score: 0.8209\n",
      "\n",
      "Epoch 00049: val_iou_score did not improve from 0.83233\n",
      "\n",
      "Epoch 00049: ReduceLROnPlateau reducing learning rate to 0.0012499999720603228.\n",
      "Epoch 50/1000\n",
      "47/47 [==============================] - 288s 6s/step - loss: 0.1738 - precision: 0.9458 - recall: 0.9357 - f1-score: 0.9405 - iou_score: 0.8926 - val_loss: 0.3166 - val_precision: 0.9136 - val_recall: 0.8667 - val_f1-score: 0.8883 - val_iou_score: 0.8125\n",
      "\n",
      "Epoch 00050: val_iou_score did not improve from 0.83233\n",
      "Epoch 51/1000\n",
      "47/47 [==============================] - 277s 6s/step - loss: 0.1748 - precision: 0.9442 - recall: 0.9360 - f1-score: 0.9399 - iou_score: 0.8917 - val_loss: 0.2917 - val_precision: 0.9184 - val_recall: 0.8791 - val_f1-score: 0.8976 - val_iou_score: 0.8261\n",
      "\n",
      "Epoch 00051: val_iou_score did not improve from 0.83233\n",
      "Epoch 52/1000\n",
      "47/47 [==============================] - 290s 6s/step - loss: 0.1745 - precision: 0.9461 - recall: 0.9346 - f1-score: 0.9401 - iou_score: 0.8920 - val_loss: 0.3036 - val_precision: 0.9142 - val_recall: 0.8743 - val_f1-score: 0.8929 - val_iou_score: 0.8190\n",
      "\n",
      "Epoch 00052: val_iou_score did not improve from 0.83233\n"
     ]
    }
   ],
   "source": [
    "import os\n",
    "os.environ[\"TF_CPP_MIN_LOG_LEVEL\"] = \"3\"\n",
    "%env SM_FRAMEWORK=tf.keras\n",
    "\n",
    "import numpy as np\n",
    "import tensorflow as tf\n",
    "from keras import backend as K \n",
    "from segmentation_models.losses import cce_jaccard_loss, dice_loss, JaccardLoss\n",
    "from segmentation_models.metrics import iou_score, f1_score, precision, recall\n",
    "from tensorflow.keras.callbacks import ModelCheckpoint, ReduceLROnPlateau, CSVLogger, EarlyStopping\n",
    "\n",
    "\"\"\" Paramaters \"\"\"\n",
    "input_shape = (256, 256, 3)\n",
    "epochs = 1000\n",
    "lr = 1e-2\n",
    "csv_path = \"./history.csv\"\n",
    "\n",
    "\"\"\" callbacks \"\"\"\n",
    "checkpoint_filepath = './Deeplabv3p_SQNet_Face_Seg_00{epoch}.h5'\n",
    "model_checkpoint_callback = ModelCheckpoint(\n",
    "    filepath=checkpoint_filepath,\n",
    "    save_weights_only=False,\n",
    "    monitor='val_iou_score',\n",
    "    mode='max',\n",
    "    verbose = 1,\n",
    "    period = 1,\n",
    "    save_best_only=True\n",
    "    )\n",
    "callbacks = [\n",
    "    model_checkpoint_callback,\n",
    "    ReduceLROnPlateau(monitor=\"val_loss\", patience=5, factor=0.5, verbose=1),\n",
    "    CSVLogger(csv_path),\n",
    "    EarlyStopping(monitor=\"val_loss\", patience=8)\n",
    "]\n",
    "\n",
    "\"\"\" steps per epochs \"\"\"\n",
    "train_steps = len(train_x)//BATCH_SIZE\n",
    "if len(train_x) % BATCH_SIZE != 0:\n",
    "    train_steps += 1\n",
    "\n",
    "val_steps = len(val_x)//BATCH_SIZE\n",
    "if len(val_x) % BATCH_SIZE != 0:\n",
    "    val_steps += 1\n",
    "\n",
    "print('train_steps: ', train_steps, '\\nval_steps: ', val_steps)\n",
    "\n",
    "\n",
    "\"\"\" Model training \"\"\"\n",
    "ls = dice_loss + cce_jaccard_loss\n",
    "metrics = [precision, recall, f1_score, iou_score] \n",
    "\n",
    "K.clear_session()\n",
    "model = DeepLabV3Plus(inputs=input_shape, classes=8)\n",
    "# model.load_weights('./Deeplabv3pSE_EffB0_Face_Seg_0019.h5')\n",
    "# model.summary()\n",
    "\n",
    "# for layer in model.layers:\n",
    "#   if layer.name == \"global_average_pooling2d_1\":\n",
    "#     break\n",
    "#   else:\n",
    "#     layer.trainable = False\n",
    "# for layer in model.layers:\n",
    "#   print(layer.name,layer.trainable)\n",
    "# break\n",
    "model.compile(\n",
    "    loss=ls,\n",
    "#     optimizer=tf.keras.optimizers.SGD(learning_rate=lr, momentum=0.9),\n",
    "    optimizer=tf.keras.optimizers.Adam(lr),\n",
    "    metrics=metrics\n",
    ")\n",
    "\n",
    "\n",
    "h = model.fit(\n",
    "    train_generator,\n",
    "    validation_data=val_generator,\n",
    "    epochs=epochs,\n",
    "    steps_per_epoch=train_steps,\n",
    "    validation_steps=val_steps,\n",
    "    callbacks=callbacks,\n",
    "    workers=-1,\n",
    "    use_multiprocessing=True,\n",
    "    batch_size=BATCH_SIZE,\n",
    ")"
   ]
  },
  {
   "cell_type": "code",
   "execution_count": 13,
   "id": "ed5ce140",
   "metadata": {
    "execution": {
     "iopub.execute_input": "2022-05-24T09:45:32.543283Z",
     "iopub.status.busy": "2022-05-24T09:45:32.543030Z",
     "iopub.status.idle": "2022-05-24T09:45:33.116144Z",
     "shell.execute_reply": "2022-05-24T09:45:33.115401Z"
    },
    "id": "7Rl88IbAcmfV",
    "papermill": {
     "duration": 1.656055,
     "end_time": "2022-05-24T09:45:33.118312",
     "exception": false,
     "start_time": "2022-05-24T09:45:31.462257",
     "status": "completed"
    },
    "tags": []
   },
   "outputs": [
    {
     "name": "stdout",
     "output_type": "stream",
     "text": [
      "dict_keys(['loss', 'precision', 'recall', 'f1-score', 'iou_score', 'val_loss', 'val_precision', 'val_recall', 'val_f1-score', 'val_iou_score', 'lr']) \n",
      "\n"
     ]
    },
    {
     "data": {
      "image/png": "[encoded data removed]",
      "text/plain": [
       "<Figure size 432x288 with 1 Axes>"
      ]
     },
     "metadata": {
      "needs_background": "light"
     },
     "output_type": "display_data"
    },
    {
     "data": {
      "image/png": "[encoded data removed]",
      "text/plain": [
       "<Figure size 432x288 with 1 Axes>"
      ]
     },
     "metadata": {
      "needs_background": "light"
     },
     "output_type": "display_data"
    },
    {
     "data": {
      "image/png": "[encoded data removed]",
      "text/plain": [
       "<Figure size 432x288 with 1 Axes>"
      ]
     },
     "metadata": {
      "needs_background": "light"
     },
     "output_type": "display_data"
    },
    {
     "data": {
      "text/plain": [
       "<Figure size 432x288 with 0 Axes>"
      ]
     },
     "metadata": {},
     "output_type": "display_data"
    }
   ],
   "source": [
    "print(h.history.keys(),\"\\n\")\n",
    "\n",
    "import matplotlib.pyplot as plt\n",
    "\n",
    "plt.plot(h.history['loss'], label='train loss')\n",
    "plt.plot(h.history['val_loss'], label='val loss')\n",
    "plt.legend()\n",
    "plt.show()\n",
    "plt.savefig('loss')\n",
    "\n",
    "plt.plot(h.history['f1-score'], label='train f1-score')\n",
    "plt.plot(h.history['val_f1-score'], label='val f1-score')\n",
    "plt.legend()\n",
    "plt.show()\n",
    "plt.savefig('f1-score')\n",
    "\n",
    "plt.plot(h.history['iou_score'], label='train iou_score')\n",
    "plt.plot(h.history['val_iou_score'], label='val iou_score')\n",
    "plt.legend()\n",
    "plt.show()\n",
    "plt.savefig('iou_score')"
   ]
  },
  {
   "cell_type": "code",
   "execution_count": 14,
   "id": "96f149bf",
   "metadata": {
    "execution": {
     "iopub.execute_input": "2022-05-24T09:45:34.832400Z",
     "iopub.status.busy": "2022-05-24T09:45:34.832120Z",
     "iopub.status.idle": "2022-05-24T09:45:35.108764Z",
     "shell.execute_reply": "2022-05-24T09:45:35.107965Z"
    },
    "papermill": {
     "duration": 1.150898,
     "end_time": "2022-05-24T09:45:35.111191",
     "exception": false,
     "start_time": "2022-05-24T09:45:33.960293",
     "status": "completed"
    },
    "tags": []
   },
   "outputs": [],
   "source": [
    "model.save('./Deeplabv3p_SQNet_Face_Seg_last.h5')"
   ]
  },
  {
   "cell_type": "code",
   "execution_count": 15,
   "id": "4b4b5b18",
   "metadata": {
    "execution": {
     "iopub.execute_input": "2022-05-24T09:45:36.823283Z",
     "iopub.status.busy": "2022-05-24T09:45:36.823022Z",
     "iopub.status.idle": "2022-05-24T09:56:03.600250Z",
     "shell.execute_reply": "2022-05-24T09:56:03.599505Z"
    },
    "papermill": {
     "duration": 628.489033,
     "end_time": "2022-05-24T09:56:04.490315",
     "exception": false,
     "start_time": "2022-05-24T09:45:36.001282",
     "status": "completed"
    },
    "tags": []
   },
   "outputs": [
    {
     "name": "stdout",
     "output_type": "stream",
     "text": [
      "122\n",
      "122/122 [==============================] - 568s 5s/step - loss: 0.3015 - precision: 0.9146 - recall: 0.8758 - f1-score: 0.8936 - iou_score: 0.8204\n"
     ]
    },
    {
     "data": {
      "text/plain": [
       "[0.30145615339279175,\n",
       " 0.9146459102630615,\n",
       " 0.8757960796356201,\n",
       " 0.8936228156089783,\n",
       " 0.8204185962677002]"
      ]
     },
     "execution_count": 15,
     "metadata": {},
     "output_type": "execute_result"
    }
   ],
   "source": [
    "test_steps = len(test_x)//BATCH_SIZE\n",
    "if len(test_x) % BATCH_SIZE != 0:\n",
    "    test_steps += 1\n",
    "print(test_steps)    \n",
    "\n",
    "model.evaluate(test_generator, batch_size=BATCH_SIZE, steps=test_steps, workers=-1, use_multiprocessing=True)"
   ]
  },
  {
   "cell_type": "code",
   "execution_count": 16,
   "id": "718b9047",
   "metadata": {
    "execution": {
     "iopub.execute_input": "2022-05-24T09:56:06.201664Z",
     "iopub.status.busy": "2022-05-24T09:56:06.200932Z",
     "iopub.status.idle": "2022-05-24T09:56:06.375720Z",
     "shell.execute_reply": "2022-05-24T09:56:06.375011Z"
    },
    "papermill": {
     "duration": 1.034837,
     "end_time": "2022-05-24T09:56:06.377522",
     "exception": false,
     "start_time": "2022-05-24T09:56:05.342685",
     "status": "completed"
    },
    "tags": []
   },
   "outputs": [
    {
     "data": {
      "image/png": "[encoded data removed]",
      "text/plain": [
       "<Figure size 432x288 with 1 Axes>"
      ]
     },
     "metadata": {
      "needs_background": "light"
     },
     "output_type": "display_data"
    },
    {
     "data": {
      "text/plain": [
       "<Figure size 432x288 with 0 Axes>"
      ]
     },
     "metadata": {},
     "output_type": "display_data"
    }
   ],
   "source": [
    "plt.plot(h.history['lr'], label='LR')\n",
    "# plt.plot(h.history['val_loss'], label='val loss')\n",
    "plt.legend()\n",
    "plt.show()\n",
    "plt.savefig('LR')"
   ]
  },
  {
   "cell_type": "code",
   "execution_count": null,
   "id": "2bc1e1d2",
   "metadata": {
    "papermill": {
     "duration": 0.875921,
     "end_time": "2022-05-24T09:56:08.232658",
     "exception": false,
     "start_time": "2022-05-24T09:56:07.356737",
     "status": "completed"
    },
    "tags": []
   },
   "outputs": [],
   "source": []
  },
  {
   "cell_type": "code",
   "execution_count": null,
   "id": "be6a816e",
   "metadata": {
    "papermill": {
     "duration": 1.203017,
     "end_time": "2022-05-24T09:56:10.311697",
     "exception": false,
     "start_time": "2022-05-24T09:56:09.108680",
     "status": "completed"
    },
    "tags": []
   },
   "outputs": [],
   "source": []
  },
  {
   "cell_type": "code",
   "execution_count": null,
   "id": "57507450",
   "metadata": {
    "papermill": {
     "duration": 0.876323,
     "end_time": "2022-05-24T09:56:12.092966",
     "exception": false,
     "start_time": "2022-05-24T09:56:11.216643",
     "status": "completed"
    },
    "tags": []
   },
   "outputs": [],
   "source": []
  },
  {
   "cell_type": "code",
   "execution_count": null,
   "id": "1897aff3",
   "metadata": {
    "papermill": {
     "duration": 0.868244,
     "end_time": "2022-05-24T09:56:13.831150",
     "exception": false,
     "start_time": "2022-05-24T09:56:12.962906",
     "status": "completed"
    },
    "tags": []
   },
   "outputs": [],
   "source": []
  }
 ],
 "metadata": {
  "kernelspec": {
   "display_name": "Python 3",
   "language": "python",
   "name": "python3"
  },
  "language_info": {
   "codemirror_mode": {
    "name": "ipython",
    "version": 3
   },
   "file_extension": ".py",
   "mimetype": "text/x-python",
   "name": "python",
   "nbconvert_exporter": "python",
   "pygments_lexer": "ipython3",
   "version": "3.7.12"
  },
  "papermill": {
   "default_parameters": {},
   "duration": 15495.980839,
   "end_time": "2022-05-24T09:56:17.580897",
   "environment_variables": {},
   "exception": null,
   "input_path": "__notebook__.ipynb",
   "output_path": "__notebook__.ipynb",
   "parameters": {},
   "start_time": "2022-05-24T05:38:01.600058",
   "version": "2.3.4"
  }
 },
 "nbformat": 4,
 "nbformat_minor": 5
}
